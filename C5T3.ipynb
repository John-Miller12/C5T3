{
 "cells": [
  {
   "cell_type": "code",
   "execution_count": 1,
   "metadata": {},
   "outputs": [],
   "source": [
    "#imports\n",
    "#numpy,pandas,scipy, math, matplotlib\n",
    "import numpy as np\n",
    "import pandas as pd\n",
    "import scipy\n",
    "from math import sqrt\n",
    "import matplotlib.pyplot as plt"
   ]
  },
  {
   "cell_type": "code",
   "execution_count": 2,
   "metadata": {},
   "outputs": [],
   "source": [
    "df = pd.read_csv('/Users/johnmiller/Downloads/default of credit card clients.csv')"
   ]
  },
  {
   "cell_type": "code",
   "execution_count": 3,
   "metadata": {},
   "outputs": [],
   "source": [
    "df = df.rename(columns={'default payment next month':\"DEFAULT\"})"
   ]
  },
  {
   "cell_type": "code",
   "execution_count": 4,
   "metadata": {},
   "outputs": [],
   "source": [
    "from sklearn.ensemble import RandomForestClassifier\n",
    "from sklearn.neighbors import KNeighborsClassifier\n",
    "from sklearn.svm import SVC"
   ]
  },
  {
   "cell_type": "code",
   "execution_count": 5,
   "metadata": {},
   "outputs": [
    {
     "name": "stdout",
     "output_type": "stream",
     "text": [
      "<class 'pandas.core.frame.DataFrame'>\n",
      "RangeIndex: 30000 entries, 0 to 29999\n",
      "Data columns (total 25 columns):\n",
      " #   Column     Non-Null Count  Dtype\n",
      "---  ------     --------------  -----\n",
      " 0   ID         30000 non-null  int64\n",
      " 1   LIMIT_BAL  30000 non-null  int64\n",
      " 2   SEX        30000 non-null  int64\n",
      " 3   EDUCATION  30000 non-null  int64\n",
      " 4   MARRIAGE   30000 non-null  int64\n",
      " 5   AGE        30000 non-null  int64\n",
      " 6   PAY_0      30000 non-null  int64\n",
      " 7   PAY_2      30000 non-null  int64\n",
      " 8   PAY_3      30000 non-null  int64\n",
      " 9   PAY_4      30000 non-null  int64\n",
      " 10  PAY_5      30000 non-null  int64\n",
      " 11  PAY_6      30000 non-null  int64\n",
      " 12  BILL_AMT1  30000 non-null  int64\n",
      " 13  BILL_AMT2  30000 non-null  int64\n",
      " 14  BILL_AMT3  30000 non-null  int64\n",
      " 15  BILL_AMT4  30000 non-null  int64\n",
      " 16  BILL_AMT5  30000 non-null  int64\n",
      " 17  BILL_AMT6  30000 non-null  int64\n",
      " 18  PAY_AMT1   30000 non-null  int64\n",
      " 19  PAY_AMT2   30000 non-null  int64\n",
      " 20  PAY_AMT3   30000 non-null  int64\n",
      " 21  PAY_AMT4   30000 non-null  int64\n",
      " 22  PAY_AMT5   30000 non-null  int64\n",
      " 23  PAY_AMT6   30000 non-null  int64\n",
      " 24  DEFAULT    30000 non-null  int64\n",
      "dtypes: int64(25)\n",
      "memory usage: 5.7 MB\n"
     ]
    }
   ],
   "source": [
    "df.info()"
   ]
  },
  {
   "cell_type": "code",
   "execution_count": 6,
   "metadata": {},
   "outputs": [],
   "source": [
    "df['SEX'] = 'SEX_' + df['SEX'].astype(str)\n",
    "df['EDUCATION'] = 'EDU_' + df['EDUCATION'].astype(str)\n",
    "df['MARRIAGE'] = 'MAR_' + df['MARRIAGE'].astype(str)"
   ]
  },
  {
   "cell_type": "code",
   "execution_count": 7,
   "metadata": {},
   "outputs": [],
   "source": [
    "one_hot_sex = pd.get_dummies(df['SEX'])\n",
    "df = df.join(one_hot_sex)\n",
    "one_hot_mar = pd.get_dummies(df['MARRIAGE'])\n",
    "df = df.join(one_hot_mar)\n",
    "one_hot_edu = pd.get_dummies(df['EDUCATION'])\n",
    "df = df.join(one_hot_edu)"
   ]
  },
  {
   "cell_type": "code",
   "execution_count": 8,
   "metadata": {},
   "outputs": [],
   "source": [
    "df = df.drop(['SEX', 'EDUCATION', 'MARRIAGE', 'ID'], axis=1)"
   ]
  },
  {
   "cell_type": "code",
   "execution_count": 9,
   "metadata": {},
   "outputs": [
    {
     "data": {
      "text/html": [
       "<div>\n",
       "<style scoped>\n",
       "    .dataframe tbody tr th:only-of-type {\n",
       "        vertical-align: middle;\n",
       "    }\n",
       "\n",
       "    .dataframe tbody tr th {\n",
       "        vertical-align: top;\n",
       "    }\n",
       "\n",
       "    .dataframe thead th {\n",
       "        text-align: right;\n",
       "    }\n",
       "</style>\n",
       "<table border=\"1\" class=\"dataframe\">\n",
       "  <thead>\n",
       "    <tr style=\"text-align: right;\">\n",
       "      <th></th>\n",
       "      <th>LIMIT_BAL</th>\n",
       "      <th>AGE</th>\n",
       "      <th>PAY_0</th>\n",
       "      <th>PAY_2</th>\n",
       "      <th>PAY_3</th>\n",
       "      <th>PAY_4</th>\n",
       "      <th>PAY_5</th>\n",
       "      <th>PAY_6</th>\n",
       "      <th>BILL_AMT1</th>\n",
       "      <th>BILL_AMT2</th>\n",
       "      <th>...</th>\n",
       "      <th>MAR_1</th>\n",
       "      <th>MAR_2</th>\n",
       "      <th>MAR_3</th>\n",
       "      <th>EDU_0</th>\n",
       "      <th>EDU_1</th>\n",
       "      <th>EDU_2</th>\n",
       "      <th>EDU_3</th>\n",
       "      <th>EDU_4</th>\n",
       "      <th>EDU_5</th>\n",
       "      <th>EDU_6</th>\n",
       "    </tr>\n",
       "  </thead>\n",
       "  <tbody>\n",
       "    <tr>\n",
       "      <th>0</th>\n",
       "      <td>20000</td>\n",
       "      <td>24</td>\n",
       "      <td>2</td>\n",
       "      <td>2</td>\n",
       "      <td>-1</td>\n",
       "      <td>-1</td>\n",
       "      <td>-2</td>\n",
       "      <td>-2</td>\n",
       "      <td>3913</td>\n",
       "      <td>3102</td>\n",
       "      <td>...</td>\n",
       "      <td>1</td>\n",
       "      <td>0</td>\n",
       "      <td>0</td>\n",
       "      <td>0</td>\n",
       "      <td>0</td>\n",
       "      <td>1</td>\n",
       "      <td>0</td>\n",
       "      <td>0</td>\n",
       "      <td>0</td>\n",
       "      <td>0</td>\n",
       "    </tr>\n",
       "    <tr>\n",
       "      <th>1</th>\n",
       "      <td>120000</td>\n",
       "      <td>26</td>\n",
       "      <td>-1</td>\n",
       "      <td>2</td>\n",
       "      <td>0</td>\n",
       "      <td>0</td>\n",
       "      <td>0</td>\n",
       "      <td>2</td>\n",
       "      <td>2682</td>\n",
       "      <td>1725</td>\n",
       "      <td>...</td>\n",
       "      <td>0</td>\n",
       "      <td>1</td>\n",
       "      <td>0</td>\n",
       "      <td>0</td>\n",
       "      <td>0</td>\n",
       "      <td>1</td>\n",
       "      <td>0</td>\n",
       "      <td>0</td>\n",
       "      <td>0</td>\n",
       "      <td>0</td>\n",
       "    </tr>\n",
       "    <tr>\n",
       "      <th>2</th>\n",
       "      <td>90000</td>\n",
       "      <td>34</td>\n",
       "      <td>0</td>\n",
       "      <td>0</td>\n",
       "      <td>0</td>\n",
       "      <td>0</td>\n",
       "      <td>0</td>\n",
       "      <td>0</td>\n",
       "      <td>29239</td>\n",
       "      <td>14027</td>\n",
       "      <td>...</td>\n",
       "      <td>0</td>\n",
       "      <td>1</td>\n",
       "      <td>0</td>\n",
       "      <td>0</td>\n",
       "      <td>0</td>\n",
       "      <td>1</td>\n",
       "      <td>0</td>\n",
       "      <td>0</td>\n",
       "      <td>0</td>\n",
       "      <td>0</td>\n",
       "    </tr>\n",
       "    <tr>\n",
       "      <th>3</th>\n",
       "      <td>50000</td>\n",
       "      <td>37</td>\n",
       "      <td>0</td>\n",
       "      <td>0</td>\n",
       "      <td>0</td>\n",
       "      <td>0</td>\n",
       "      <td>0</td>\n",
       "      <td>0</td>\n",
       "      <td>46990</td>\n",
       "      <td>48233</td>\n",
       "      <td>...</td>\n",
       "      <td>1</td>\n",
       "      <td>0</td>\n",
       "      <td>0</td>\n",
       "      <td>0</td>\n",
       "      <td>0</td>\n",
       "      <td>1</td>\n",
       "      <td>0</td>\n",
       "      <td>0</td>\n",
       "      <td>0</td>\n",
       "      <td>0</td>\n",
       "    </tr>\n",
       "    <tr>\n",
       "      <th>4</th>\n",
       "      <td>50000</td>\n",
       "      <td>57</td>\n",
       "      <td>-1</td>\n",
       "      <td>0</td>\n",
       "      <td>-1</td>\n",
       "      <td>0</td>\n",
       "      <td>0</td>\n",
       "      <td>0</td>\n",
       "      <td>8617</td>\n",
       "      <td>5670</td>\n",
       "      <td>...</td>\n",
       "      <td>1</td>\n",
       "      <td>0</td>\n",
       "      <td>0</td>\n",
       "      <td>0</td>\n",
       "      <td>0</td>\n",
       "      <td>1</td>\n",
       "      <td>0</td>\n",
       "      <td>0</td>\n",
       "      <td>0</td>\n",
       "      <td>0</td>\n",
       "    </tr>\n",
       "  </tbody>\n",
       "</table>\n",
       "<p>5 rows × 34 columns</p>\n",
       "</div>"
      ],
      "text/plain": [
       "   LIMIT_BAL  AGE  PAY_0  PAY_2  PAY_3  PAY_4  PAY_5  PAY_6  BILL_AMT1  \\\n",
       "0      20000   24      2      2     -1     -1     -2     -2       3913   \n",
       "1     120000   26     -1      2      0      0      0      2       2682   \n",
       "2      90000   34      0      0      0      0      0      0      29239   \n",
       "3      50000   37      0      0      0      0      0      0      46990   \n",
       "4      50000   57     -1      0     -1      0      0      0       8617   \n",
       "\n",
       "   BILL_AMT2  ...  MAR_1  MAR_2  MAR_3  EDU_0  EDU_1  EDU_2  EDU_3  EDU_4  \\\n",
       "0       3102  ...      1      0      0      0      0      1      0      0   \n",
       "1       1725  ...      0      1      0      0      0      1      0      0   \n",
       "2      14027  ...      0      1      0      0      0      1      0      0   \n",
       "3      48233  ...      1      0      0      0      0      1      0      0   \n",
       "4       5670  ...      1      0      0      0      0      1      0      0   \n",
       "\n",
       "   EDU_5  EDU_6  \n",
       "0      0      0  \n",
       "1      0      0  \n",
       "2      0      0  \n",
       "3      0      0  \n",
       "4      0      0  \n",
       "\n",
       "[5 rows x 34 columns]"
      ]
     },
     "execution_count": 9,
     "metadata": {},
     "output_type": "execute_result"
    }
   ],
   "source": [
    "df.head()"
   ]
  },
  {
   "cell_type": "code",
   "execution_count": 97,
   "metadata": {},
   "outputs": [],
   "source": [
    "from sklearn.metrics import cohen_kappa_score\n",
    "from sklearn.metrics import accuracy_score\n",
    "from sklearn.metrics import roc_curve\n",
    "from sklearn.metrics import confusion_matrix"
   ]
  },
  {
   "cell_type": "code",
   "execution_count": 11,
   "metadata": {},
   "outputs": [],
   "source": [
    "from sklearn.model_selection import train_test_split\n",
    "from sklearn.model_selection import cross_val_score"
   ]
  },
  {
   "cell_type": "code",
   "execution_count": 12,
   "metadata": {},
   "outputs": [],
   "source": [
    "modelSVC = SVC()\n",
    "modelRF = RandomForestClassifier()\n",
    "modelKN = KNeighborsClassifier()"
   ]
  },
  {
   "cell_type": "code",
   "execution_count": 13,
   "metadata": {},
   "outputs": [],
   "source": [
    "np.random.seed(42)"
   ]
  },
  {
   "cell_type": "code",
   "execution_count": 14,
   "metadata": {},
   "outputs": [],
   "source": [
    "depVar = df['DEFAULT']\n",
    "allwithonehot = df.iloc[:,0:32]"
   ]
  },
  {
   "cell_type": "code",
   "execution_count": 15,
   "metadata": {},
   "outputs": [],
   "source": [
    "X_train, X_test, y_train, y_test = train_test_split(allwithonehot, depVar, test_size=0.7)"
   ]
  },
  {
   "cell_type": "code",
   "execution_count": 16,
   "metadata": {},
   "outputs": [
    {
     "data": {
      "text/html": [
       "<div>\n",
       "<style scoped>\n",
       "    .dataframe tbody tr th:only-of-type {\n",
       "        vertical-align: middle;\n",
       "    }\n",
       "\n",
       "    .dataframe tbody tr th {\n",
       "        vertical-align: top;\n",
       "    }\n",
       "\n",
       "    .dataframe thead th {\n",
       "        text-align: right;\n",
       "    }\n",
       "</style>\n",
       "<table border=\"1\" class=\"dataframe\">\n",
       "  <thead>\n",
       "    <tr style=\"text-align: right;\">\n",
       "      <th></th>\n",
       "      <th>LIMIT_BAL</th>\n",
       "      <th>AGE</th>\n",
       "      <th>PAY_0</th>\n",
       "      <th>PAY_2</th>\n",
       "      <th>PAY_3</th>\n",
       "      <th>PAY_4</th>\n",
       "      <th>PAY_5</th>\n",
       "      <th>PAY_6</th>\n",
       "      <th>BILL_AMT1</th>\n",
       "      <th>BILL_AMT2</th>\n",
       "      <th>...</th>\n",
       "      <th>SEX_2</th>\n",
       "      <th>MAR_0</th>\n",
       "      <th>MAR_1</th>\n",
       "      <th>MAR_2</th>\n",
       "      <th>MAR_3</th>\n",
       "      <th>EDU_0</th>\n",
       "      <th>EDU_1</th>\n",
       "      <th>EDU_2</th>\n",
       "      <th>EDU_3</th>\n",
       "      <th>EDU_4</th>\n",
       "    </tr>\n",
       "  </thead>\n",
       "  <tbody>\n",
       "    <tr>\n",
       "      <th>17548</th>\n",
       "      <td>60000</td>\n",
       "      <td>48</td>\n",
       "      <td>0</td>\n",
       "      <td>0</td>\n",
       "      <td>0</td>\n",
       "      <td>0</td>\n",
       "      <td>0</td>\n",
       "      <td>0</td>\n",
       "      <td>50806</td>\n",
       "      <td>50980</td>\n",
       "      <td>...</td>\n",
       "      <td>1</td>\n",
       "      <td>0</td>\n",
       "      <td>1</td>\n",
       "      <td>0</td>\n",
       "      <td>0</td>\n",
       "      <td>0</td>\n",
       "      <td>0</td>\n",
       "      <td>1</td>\n",
       "      <td>0</td>\n",
       "      <td>0</td>\n",
       "    </tr>\n",
       "    <tr>\n",
       "      <th>28639</th>\n",
       "      <td>100000</td>\n",
       "      <td>31</td>\n",
       "      <td>0</td>\n",
       "      <td>0</td>\n",
       "      <td>0</td>\n",
       "      <td>0</td>\n",
       "      <td>0</td>\n",
       "      <td>0</td>\n",
       "      <td>100296</td>\n",
       "      <td>97239</td>\n",
       "      <td>...</td>\n",
       "      <td>1</td>\n",
       "      <td>0</td>\n",
       "      <td>0</td>\n",
       "      <td>1</td>\n",
       "      <td>0</td>\n",
       "      <td>0</td>\n",
       "      <td>1</td>\n",
       "      <td>0</td>\n",
       "      <td>0</td>\n",
       "      <td>0</td>\n",
       "    </tr>\n",
       "    <tr>\n",
       "      <th>27644</th>\n",
       "      <td>130000</td>\n",
       "      <td>24</td>\n",
       "      <td>0</td>\n",
       "      <td>0</td>\n",
       "      <td>0</td>\n",
       "      <td>0</td>\n",
       "      <td>0</td>\n",
       "      <td>0</td>\n",
       "      <td>66072</td>\n",
       "      <td>68223</td>\n",
       "      <td>...</td>\n",
       "      <td>1</td>\n",
       "      <td>0</td>\n",
       "      <td>1</td>\n",
       "      <td>0</td>\n",
       "      <td>0</td>\n",
       "      <td>0</td>\n",
       "      <td>0</td>\n",
       "      <td>1</td>\n",
       "      <td>0</td>\n",
       "      <td>0</td>\n",
       "    </tr>\n",
       "    <tr>\n",
       "      <th>12673</th>\n",
       "      <td>430000</td>\n",
       "      <td>42</td>\n",
       "      <td>2</td>\n",
       "      <td>2</td>\n",
       "      <td>2</td>\n",
       "      <td>2</td>\n",
       "      <td>2</td>\n",
       "      <td>2</td>\n",
       "      <td>289358</td>\n",
       "      <td>296219</td>\n",
       "      <td>...</td>\n",
       "      <td>1</td>\n",
       "      <td>0</td>\n",
       "      <td>1</td>\n",
       "      <td>0</td>\n",
       "      <td>0</td>\n",
       "      <td>0</td>\n",
       "      <td>0</td>\n",
       "      <td>1</td>\n",
       "      <td>0</td>\n",
       "      <td>0</td>\n",
       "    </tr>\n",
       "    <tr>\n",
       "      <th>6041</th>\n",
       "      <td>300000</td>\n",
       "      <td>32</td>\n",
       "      <td>0</td>\n",
       "      <td>0</td>\n",
       "      <td>0</td>\n",
       "      <td>0</td>\n",
       "      <td>0</td>\n",
       "      <td>-2</td>\n",
       "      <td>26575</td>\n",
       "      <td>27062</td>\n",
       "      <td>...</td>\n",
       "      <td>1</td>\n",
       "      <td>0</td>\n",
       "      <td>0</td>\n",
       "      <td>1</td>\n",
       "      <td>0</td>\n",
       "      <td>0</td>\n",
       "      <td>0</td>\n",
       "      <td>1</td>\n",
       "      <td>0</td>\n",
       "      <td>0</td>\n",
       "    </tr>\n",
       "  </tbody>\n",
       "</table>\n",
       "<p>5 rows × 32 columns</p>\n",
       "</div>"
      ],
      "text/plain": [
       "       LIMIT_BAL  AGE  PAY_0  PAY_2  PAY_3  PAY_4  PAY_5  PAY_6  BILL_AMT1  \\\n",
       "17548      60000   48      0      0      0      0      0      0      50806   \n",
       "28639     100000   31      0      0      0      0      0      0     100296   \n",
       "27644     130000   24      0      0      0      0      0      0      66072   \n",
       "12673     430000   42      2      2      2      2      2      2     289358   \n",
       "6041      300000   32      0      0      0      0      0     -2      26575   \n",
       "\n",
       "       BILL_AMT2  ...  SEX_2  MAR_0  MAR_1  MAR_2  MAR_3  EDU_0  EDU_1  EDU_2  \\\n",
       "17548      50980  ...      1      0      1      0      0      0      0      1   \n",
       "28639      97239  ...      1      0      0      1      0      0      1      0   \n",
       "27644      68223  ...      1      0      1      0      0      0      0      1   \n",
       "12673     296219  ...      1      0      1      0      0      0      0      1   \n",
       "6041       27062  ...      1      0      0      1      0      0      0      1   \n",
       "\n",
       "       EDU_3  EDU_4  \n",
       "17548      0      0  \n",
       "28639      0      0  \n",
       "27644      0      0  \n",
       "12673      0      0  \n",
       "6041       0      0  \n",
       "\n",
       "[5 rows x 32 columns]"
      ]
     },
     "execution_count": 16,
     "metadata": {},
     "output_type": "execute_result"
    }
   ],
   "source": [
    "X_train.head()"
   ]
  },
  {
   "cell_type": "code",
   "execution_count": 17,
   "metadata": {},
   "outputs": [
    {
     "name": "stdout",
     "output_type": "stream",
     "text": [
      "[1. 1. 1. 1. 1.]\n"
     ]
    },
    {
     "data": {
      "text/plain": [
       "1.0"
      ]
     },
     "execution_count": 17,
     "metadata": {},
     "output_type": "execute_result"
    }
   ],
   "source": [
    "modelRF.fit(X_train,y_train)\n",
    "print(cross_val_score(modelRF, X_train, y_train))\n",
    "modelRF.score(X_train,y_train)"
   ]
  },
  {
   "cell_type": "code",
   "execution_count": 18,
   "metadata": {},
   "outputs": [
    {
     "name": "stdout",
     "output_type": "stream",
     "text": [
      "[0.77333333 0.77333333 0.77333333 0.77333333 0.77388889]\n"
     ]
    },
    {
     "data": {
      "text/plain": [
       "0.774"
      ]
     },
     "execution_count": 18,
     "metadata": {},
     "output_type": "execute_result"
    }
   ],
   "source": [
    "modelSVC.fit(X_train,y_train)\n",
    "print(cross_val_score(modelSVC, X_train, y_train))\n",
    "modelSVC.score(X_train,y_train)"
   ]
  },
  {
   "cell_type": "code",
   "execution_count": 19,
   "metadata": {},
   "outputs": [
    {
     "name": "stdout",
     "output_type": "stream",
     "text": [
      "[0.75166667 0.74166667 0.75277778 0.74166667 0.76111111]\n"
     ]
    },
    {
     "data": {
      "text/plain": [
       "0.8123333333333334"
      ]
     },
     "execution_count": 19,
     "metadata": {},
     "output_type": "execute_result"
    }
   ],
   "source": [
    "modelKN.fit(X_train,y_train)\n",
    "print(cross_val_score(modelKN, X_train, y_train))\n",
    "modelKN.score(X_train,y_train)"
   ]
  },
  {
   "cell_type": "code",
   "execution_count": 20,
   "metadata": {},
   "outputs": [],
   "source": [
    "#RF is overfitting due to depth\n",
    "modelRF4 = RandomForestClassifier(max_depth=4)"
   ]
  },
  {
   "cell_type": "code",
   "execution_count": 21,
   "metadata": {},
   "outputs": [
    {
     "name": "stdout",
     "output_type": "stream",
     "text": [
      "[1. 1. 1. 1. 1.]\n"
     ]
    },
    {
     "data": {
      "text/plain": [
       "1.0"
      ]
     },
     "execution_count": 21,
     "metadata": {},
     "output_type": "execute_result"
    }
   ],
   "source": [
    "modelRF4.fit(X_train,y_train)\n",
    "print(cross_val_score(modelRF4, X_train, y_train))\n",
    "modelRF4.score(X_train,y_train)"
   ]
  },
  {
   "cell_type": "code",
   "execution_count": 22,
   "metadata": {},
   "outputs": [
    {
     "name": "stdout",
     "output_type": "stream",
     "text": [
      "[0.99555556 0.88333333 0.91666667 0.92888889 0.98333333]\n"
     ]
    },
    {
     "data": {
      "text/plain": [
       "0.9682222222222222"
      ]
     },
     "execution_count": 22,
     "metadata": {},
     "output_type": "execute_result"
    }
   ],
   "source": [
    "modelRF3 = RandomForestClassifier(max_depth=3)\n",
    "modelRF3.fit(X_train,y_train)\n",
    "print(cross_val_score(modelRF3, X_train, y_train))\n",
    "modelRF3.score(X_train,y_train)"
   ]
  },
  {
   "cell_type": "code",
   "execution_count": 23,
   "metadata": {},
   "outputs": [
    {
     "name": "stdout",
     "output_type": "stream",
     "text": [
      "[[16403     0]\n",
      " [  665  3932]]\n"
     ]
    }
   ],
   "source": [
    "predictionsRF = modelRF3.predict(X_test)\n",
    "confmatRF = confusion_matrix(y_test,predictionsRF)\n",
    "print(confmatRF)"
   ]
  },
  {
   "cell_type": "code",
   "execution_count": 91,
   "metadata": {},
   "outputs": [
    {
     "name": "stdout",
     "output_type": "stream",
     "text": [
      "[0.92388889 0.90166667 0.94611111 0.99944444 0.93166667]\n"
     ]
    },
    {
     "data": {
      "text/plain": [
       "0.9356666666666666"
      ]
     },
     "execution_count": 91,
     "metadata": {},
     "output_type": "execute_result"
    }
   ],
   "source": [
    "modelRF5 = RandomForestClassifier(max_depth=3,n_estimators=20)\n",
    "modelRF5.fit(X_train,y_train)\n",
    "print(cross_val_score(modelRF5, X_train, y_train))\n",
    "modelRF5.score(X_train,y_train)"
   ]
  },
  {
   "cell_type": "code",
   "execution_count": 93,
   "metadata": {},
   "outputs": [
    {
     "name": "stdout",
     "output_type": "stream",
     "text": [
      "[0.915      1.         0.91666667 1.         0.89722222]\n"
     ]
    },
    {
     "data": {
      "text/plain": [
       "0.9596666666666667"
      ]
     },
     "execution_count": 93,
     "metadata": {},
     "output_type": "execute_result"
    }
   ],
   "source": [
    "modelRF6 = RandomForestClassifier(max_depth=3,n_estimators=200)\n",
    "modelRF6.fit(X_train,y_train)\n",
    "print(cross_val_score(modelRF6, X_train, y_train))\n",
    "modelRF6.score(X_train,y_train)"
   ]
  },
  {
   "cell_type": "code",
   "execution_count": 94,
   "metadata": {},
   "outputs": [
    {
     "name": "stdout",
     "output_type": "stream",
     "text": [
      "[[16403     0]\n",
      " [  813  3784]]\n"
     ]
    }
   ],
   "source": [
    "predictionsRF6 = modelRF6.predict(X_test)\n",
    "confmatRF6 = confusion_matrix(y_test,predictionsRF6)\n",
    "print(confmatRF6)"
   ]
  },
  {
   "cell_type": "markdown",
   "metadata": {},
   "source": [
    "No mis-classification of default, but some default misclassified as not\n",
    "This would be unlikely to mistakenly deny an applicant. RF3 superior to other tested models."
   ]
  },
  {
   "cell_type": "code",
   "execution_count": 101,
   "metadata": {},
   "outputs": [
    {
     "name": "stdout",
     "output_type": "stream",
     "text": [
      "0.9023140975369918 0.9683333333333334\n"
     ]
    }
   ],
   "source": [
    "kappa = cohen_kappa_score(y_test,predictionsRF)\n",
    "accuracy =accuracy_score(y_test,predictionsRF)\n",
    "print(kappa, accuracy)"
   ]
  },
  {
   "cell_type": "markdown",
   "metadata": {},
   "source": [
    "### Based on above, modelRF3 final selection"
   ]
  },
  {
   "cell_type": "code",
   "execution_count": 24,
   "metadata": {
    "scrolled": false
   },
   "outputs": [
    {
     "data": {
      "image/png": "[encoded data removed]",
      "text/plain": [
       "<Figure size 432x288 with 1 Axes>"
      ]
     },
     "metadata": {
      "needs_background": "light"
     },
     "output_type": "display_data"
    },
    {
     "data": {
      "image/png": "[encoded data removed]",
      "text/plain": [
       "<Figure size 432x288 with 1 Axes>"
      ]
     },
     "metadata": {
      "needs_background": "light"
     },
     "output_type": "display_data"
    }
   ],
   "source": [
    "plt.hist(predictionsRF)\n",
    "plt.show()\n",
    "plt.hist(y_test)\n",
    "plt.show();"
   ]
  },
  {
   "cell_type": "code",
   "execution_count": 25,
   "metadata": {
    "scrolled": true
   },
   "outputs": [
    {
     "name": "stdout",
     "output_type": "stream",
     "text": [
      "[1. 1. 1. 1. 1. 1. 1. 1. 1. 1.]\n"
     ]
    }
   ],
   "source": [
    "cvRF = cross_val_score(RandomForestClassifier(max_depth=3), X_test, y_test, scoring='precision', cv=10)\n",
    "print(cvRF)"
   ]
  },
  {
   "cell_type": "code",
   "execution_count": 26,
   "metadata": {},
   "outputs": [
    {
     "name": "stdout",
     "output_type": "stream",
     "text": [
      "[[14947  1456]\n",
      " [ 3790   807]]\n"
     ]
    }
   ],
   "source": [
    "predictionsKN = modelKN.predict(X_test)\n",
    "confmatKN = confusion_matrix(y_test,predictionsKN)\n",
    "print(confmatKN)"
   ]
  },
  {
   "cell_type": "markdown",
   "metadata": {},
   "source": [
    "misclassifications of both default an non-default seen"
   ]
  },
  {
   "cell_type": "code",
   "execution_count": 27,
   "metadata": {},
   "outputs": [
    {
     "name": "stdout",
     "output_type": "stream",
     "text": [
      "[0.76611111 0.76       0.77666667 0.76777778 0.77166667]\n"
     ]
    },
    {
     "data": {
      "text/plain": [
       "0.7914444444444444"
      ]
     },
     "execution_count": 27,
     "metadata": {},
     "output_type": "execute_result"
    }
   ],
   "source": [
    "modelKN10 = KNeighborsClassifier(n_neighbors=10)\n",
    "modelKN10.fit(X_train,y_train)\n",
    "print(cross_val_score(modelKN10, X_train, y_train))\n",
    "modelKN10.score(X_train,y_train)"
   ]
  },
  {
   "cell_type": "code",
   "execution_count": 96,
   "metadata": {},
   "outputs": [
    {
     "name": "stdout",
     "output_type": "stream",
     "text": [
      "[0.72888889 0.72166667 0.74277778 0.72       0.73611111]\n"
     ]
    },
    {
     "data": {
      "text/plain": [
       "0.8436666666666667"
      ]
     },
     "execution_count": 96,
     "metadata": {},
     "output_type": "execute_result"
    }
   ],
   "source": [
    "modelKN3 = KNeighborsClassifier(n_neighbors=3)\n",
    "modelKN3.fit(X_train,y_train)\n",
    "print(cross_val_score(modelKN3, X_train, y_train))\n",
    "modelKN3.score(X_train,y_train)"
   ]
  },
  {
   "cell_type": "code",
   "execution_count": 29,
   "metadata": {},
   "outputs": [
    {
     "name": "stdout",
     "output_type": "stream",
     "text": [
      "[0.76166667 0.75555556 0.76611111 0.75       0.75555556]\n"
     ]
    },
    {
     "data": {
      "text/plain": [
       "0.8406666666666667"
      ]
     },
     "execution_count": 29,
     "metadata": {},
     "output_type": "execute_result"
    }
   ],
   "source": [
    "modelKN2 = KNeighborsClassifier(n_neighbors=2)\n",
    "modelKN2.fit(X_train,y_train)\n",
    "print(cross_val_score(modelKN2, X_train, y_train))\n",
    "modelKN2.score(X_train,y_train)"
   ]
  },
  {
   "cell_type": "code",
   "execution_count": 30,
   "metadata": {},
   "outputs": [
    {
     "name": "stdout",
     "output_type": "stream",
     "text": [
      "[[15521   882]\n",
      " [ 4117   480]]\n"
     ]
    }
   ],
   "source": [
    "predictionsKN2 = modelKN2.predict(X_test)\n",
    "confmatKN2 = confusion_matrix(y_test,predictionsKN2)\n",
    "print(confmatKN2)"
   ]
  },
  {
   "cell_type": "markdown",
   "metadata": {},
   "source": [
    "Very large % of defaults classified as non-defaults, more innacurate default hits than accurate"
   ]
  },
  {
   "cell_type": "code",
   "execution_count": 31,
   "metadata": {},
   "outputs": [
    {
     "name": "stdout",
     "output_type": "stream",
     "text": [
      "[0.77333333 0.77333333 0.77333333 0.77333333 0.77388889]\n"
     ]
    },
    {
     "data": {
      "text/plain": [
       "0.774"
      ]
     },
     "execution_count": 31,
     "metadata": {},
     "output_type": "execute_result"
    }
   ],
   "source": [
    "modelSVC = SVC()\n",
    "modelSVC.fit(X_train,y_train)\n",
    "print(cross_val_score(modelSVC, X_train, y_train))\n",
    "modelSVC.score(X_train,y_train)"
   ]
  },
  {
   "cell_type": "code",
   "execution_count": 32,
   "metadata": {},
   "outputs": [
    {
     "name": "stdout",
     "output_type": "stream",
     "text": [
      "[[16403     0]\n",
      " [ 4596     1]]\n"
     ]
    },
    {
     "data": {
      "text/plain": [
       "0.7811428571428571"
      ]
     },
     "execution_count": 32,
     "metadata": {},
     "output_type": "execute_result"
    }
   ],
   "source": [
    "predictionsSVC = modelSVC.predict(X_test)\n",
    "confmatSVC = confusion_matrix(y_test,predictionsSVC)\n",
    "print(confmatSVC)\n",
    "accuracy_score(y_test, predictionsSVC)"
   ]
  },
  {
   "cell_type": "code",
   "execution_count": 33,
   "metadata": {},
   "outputs": [
    {
     "name": "stdout",
     "output_type": "stream",
     "text": [
      "[0.77333333 0.77333333 0.77333333 0.77333333 0.77388889]\n",
      "[[16403     0]\n",
      " [ 4596     1]]\n"
     ]
    },
    {
     "data": {
      "text/plain": [
       "0.7811428571428571"
      ]
     },
     "execution_count": 33,
     "metadata": {},
     "output_type": "execute_result"
    }
   ],
   "source": [
    "modelSVCT = SVC(probability=True)\n",
    "modelSVCT.fit(X_train,y_train)\n",
    "print(cross_val_score(modelSVCT, X_train, y_train))\n",
    "modelSVCT.score(X_train,y_train)\n",
    "\n",
    "#Pred+score\n",
    "predictionsSVCT = modelSVCT.predict(X_test)\n",
    "confmatSVCT = confusion_matrix(y_test,predictionsSVCT)\n",
    "print(confmatSVCT)\n",
    "accuracy_score(y_test, predictionsSVCT)"
   ]
  },
  {
   "cell_type": "markdown",
   "metadata": {},
   "source": [
    "in this universe, no one defaults. let's not use that, then."
   ]
  },
  {
   "cell_type": "markdown",
   "metadata": {},
   "source": [
    "# Manual Feature Selection - No demographics"
   ]
  },
  {
   "cell_type": "code",
   "execution_count": 35,
   "metadata": {},
   "outputs": [
    {
     "data": {
      "text/plain": [
       "<bound method NDFrame.head of        LIMIT_BAL  PAY_0  PAY_2  PAY_3  PAY_4  PAY_5  PAY_6  BILL_AMT1  \\\n",
       "0          20000      2      2     -1     -1     -2     -2       3913   \n",
       "1         120000     -1      2      0      0      0      2       2682   \n",
       "2          90000      0      0      0      0      0      0      29239   \n",
       "3          50000      0      0      0      0      0      0      46990   \n",
       "4          50000     -1      0     -1      0      0      0       8617   \n",
       "...          ...    ...    ...    ...    ...    ...    ...        ...   \n",
       "29995     220000      0      0      0      0      0      0     188948   \n",
       "29996     150000     -1     -1     -1     -1      0      0       1683   \n",
       "29997      30000      4      3      2     -1      0      0       3565   \n",
       "29998      80000      1     -1      0      0      0     -1      -1645   \n",
       "29999      50000      0      0      0      0      0      0      47929   \n",
       "\n",
       "       BILL_AMT2  BILL_AMT3  BILL_AMT4  BILL_AMT5  BILL_AMT6  PAY_AMT1  \\\n",
       "0           3102        689          0          0          0         0   \n",
       "1           1725       2682       3272       3455       3261         0   \n",
       "2          14027      13559      14331      14948      15549      1518   \n",
       "3          48233      49291      28314      28959      29547      2000   \n",
       "4           5670      35835      20940      19146      19131      2000   \n",
       "...          ...        ...        ...        ...        ...       ...   \n",
       "29995     192815     208365      88004      31237      15980      8500   \n",
       "29996       1828       3502       8979       5190          0      1837   \n",
       "29997       3356       2758      20878      20582      19357         0   \n",
       "29998      78379      76304      52774      11855      48944     85900   \n",
       "29999      48905      49764      36535      32428      15313      2078   \n",
       "\n",
       "       PAY_AMT2  PAY_AMT3  PAY_AMT4  PAY_AMT5  PAY_AMT6  DEFAULT  \n",
       "0           689         0         0         0         0        1  \n",
       "1          1000      1000      1000         0      2000        1  \n",
       "2          1500      1000      1000      1000      5000        0  \n",
       "3          2019      1200      1100      1069      1000        0  \n",
       "4         36681     10000      9000       689       679        0  \n",
       "...         ...       ...       ...       ...       ...      ...  \n",
       "29995     20000      5003      3047      5000      1000        0  \n",
       "29996      3526      8998       129         0         0        0  \n",
       "29997         0     22000      4200      2000      3100        1  \n",
       "29998      3409      1178      1926     52964      1804        1  \n",
       "29999      1800      1430      1000      1000      1000        1  \n",
       "\n",
       "[30000 rows x 20 columns]>"
      ]
     },
     "execution_count": 35,
     "metadata": {},
     "output_type": "execute_result"
    }
   ],
   "source": [
    "df1 = pd.read_csv('/Users/johnmiller/Downloads/default of credit card clients.csv')\n",
    "df1 = df1.rename(columns={'default payment next month':\"DEFAULT\"})\n",
    "df1 = df1.drop(['SEX', 'EDUCATION', 'MARRIAGE', 'ID', 'AGE'], axis=1)\n",
    "df1.head"
   ]
  },
  {
   "cell_type": "code",
   "execution_count": 36,
   "metadata": {},
   "outputs": [
    {
     "name": "stdout",
     "output_type": "stream",
     "text": [
      "<class 'pandas.core.frame.DataFrame'>\n",
      "RangeIndex: 30000 entries, 0 to 29999\n",
      "Data columns (total 20 columns):\n",
      " #   Column     Non-Null Count  Dtype\n",
      "---  ------     --------------  -----\n",
      " 0   LIMIT_BAL  30000 non-null  int64\n",
      " 1   PAY_0      30000 non-null  int64\n",
      " 2   PAY_2      30000 non-null  int64\n",
      " 3   PAY_3      30000 non-null  int64\n",
      " 4   PAY_4      30000 non-null  int64\n",
      " 5   PAY_5      30000 non-null  int64\n",
      " 6   PAY_6      30000 non-null  int64\n",
      " 7   BILL_AMT1  30000 non-null  int64\n",
      " 8   BILL_AMT2  30000 non-null  int64\n",
      " 9   BILL_AMT3  30000 non-null  int64\n",
      " 10  BILL_AMT4  30000 non-null  int64\n",
      " 11  BILL_AMT5  30000 non-null  int64\n",
      " 12  BILL_AMT6  30000 non-null  int64\n",
      " 13  PAY_AMT1   30000 non-null  int64\n",
      " 14  PAY_AMT2   30000 non-null  int64\n",
      " 15  PAY_AMT3   30000 non-null  int64\n",
      " 16  PAY_AMT4   30000 non-null  int64\n",
      " 17  PAY_AMT5   30000 non-null  int64\n",
      " 18  PAY_AMT6   30000 non-null  int64\n",
      " 19  DEFAULT    30000 non-null  int64\n",
      "dtypes: int64(20)\n",
      "memory usage: 4.6 MB\n"
     ]
    }
   ],
   "source": [
    "df1.info()"
   ]
  },
  {
   "cell_type": "code",
   "execution_count": 37,
   "metadata": {},
   "outputs": [
    {
     "data": {
      "text/html": [
       "<div>\n",
       "<style scoped>\n",
       "    .dataframe tbody tr th:only-of-type {\n",
       "        vertical-align: middle;\n",
       "    }\n",
       "\n",
       "    .dataframe tbody tr th {\n",
       "        vertical-align: top;\n",
       "    }\n",
       "\n",
       "    .dataframe thead th {\n",
       "        text-align: right;\n",
       "    }\n",
       "</style>\n",
       "<table border=\"1\" class=\"dataframe\">\n",
       "  <thead>\n",
       "    <tr style=\"text-align: right;\">\n",
       "      <th></th>\n",
       "      <th>LIMIT_BAL</th>\n",
       "      <th>PAY_0</th>\n",
       "      <th>PAY_2</th>\n",
       "      <th>PAY_3</th>\n",
       "      <th>PAY_4</th>\n",
       "      <th>PAY_5</th>\n",
       "      <th>PAY_6</th>\n",
       "      <th>BILL_AMT1</th>\n",
       "      <th>BILL_AMT2</th>\n",
       "      <th>BILL_AMT3</th>\n",
       "      <th>BILL_AMT4</th>\n",
       "      <th>BILL_AMT5</th>\n",
       "      <th>BILL_AMT6</th>\n",
       "      <th>PAY_AMT1</th>\n",
       "      <th>PAY_AMT2</th>\n",
       "      <th>PAY_AMT3</th>\n",
       "      <th>PAY_AMT4</th>\n",
       "      <th>PAY_AMT5</th>\n",
       "      <th>PAY_AMT6</th>\n",
       "      <th>DEFAULT</th>\n",
       "    </tr>\n",
       "  </thead>\n",
       "  <tbody>\n",
       "    <tr>\n",
       "      <th>0</th>\n",
       "      <td>20000</td>\n",
       "      <td>4</td>\n",
       "      <td>4</td>\n",
       "      <td>1</td>\n",
       "      <td>1</td>\n",
       "      <td>0</td>\n",
       "      <td>0</td>\n",
       "      <td>3913</td>\n",
       "      <td>3102</td>\n",
       "      <td>689</td>\n",
       "      <td>0</td>\n",
       "      <td>0</td>\n",
       "      <td>0</td>\n",
       "      <td>0</td>\n",
       "      <td>689</td>\n",
       "      <td>0</td>\n",
       "      <td>0</td>\n",
       "      <td>0</td>\n",
       "      <td>0</td>\n",
       "      <td>1</td>\n",
       "    </tr>\n",
       "    <tr>\n",
       "      <th>1</th>\n",
       "      <td>120000</td>\n",
       "      <td>1</td>\n",
       "      <td>4</td>\n",
       "      <td>2</td>\n",
       "      <td>2</td>\n",
       "      <td>2</td>\n",
       "      <td>4</td>\n",
       "      <td>2682</td>\n",
       "      <td>1725</td>\n",
       "      <td>2682</td>\n",
       "      <td>3272</td>\n",
       "      <td>3455</td>\n",
       "      <td>3261</td>\n",
       "      <td>0</td>\n",
       "      <td>1000</td>\n",
       "      <td>1000</td>\n",
       "      <td>1000</td>\n",
       "      <td>0</td>\n",
       "      <td>2000</td>\n",
       "      <td>1</td>\n",
       "    </tr>\n",
       "    <tr>\n",
       "      <th>2</th>\n",
       "      <td>90000</td>\n",
       "      <td>2</td>\n",
       "      <td>2</td>\n",
       "      <td>2</td>\n",
       "      <td>2</td>\n",
       "      <td>2</td>\n",
       "      <td>2</td>\n",
       "      <td>29239</td>\n",
       "      <td>14027</td>\n",
       "      <td>13559</td>\n",
       "      <td>14331</td>\n",
       "      <td>14948</td>\n",
       "      <td>15549</td>\n",
       "      <td>1518</td>\n",
       "      <td>1500</td>\n",
       "      <td>1000</td>\n",
       "      <td>1000</td>\n",
       "      <td>1000</td>\n",
       "      <td>5000</td>\n",
       "      <td>0</td>\n",
       "    </tr>\n",
       "    <tr>\n",
       "      <th>3</th>\n",
       "      <td>50000</td>\n",
       "      <td>2</td>\n",
       "      <td>2</td>\n",
       "      <td>2</td>\n",
       "      <td>2</td>\n",
       "      <td>2</td>\n",
       "      <td>2</td>\n",
       "      <td>46990</td>\n",
       "      <td>48233</td>\n",
       "      <td>49291</td>\n",
       "      <td>28314</td>\n",
       "      <td>28959</td>\n",
       "      <td>29547</td>\n",
       "      <td>2000</td>\n",
       "      <td>2019</td>\n",
       "      <td>1200</td>\n",
       "      <td>1100</td>\n",
       "      <td>1069</td>\n",
       "      <td>1000</td>\n",
       "      <td>0</td>\n",
       "    </tr>\n",
       "    <tr>\n",
       "      <th>4</th>\n",
       "      <td>50000</td>\n",
       "      <td>1</td>\n",
       "      <td>2</td>\n",
       "      <td>1</td>\n",
       "      <td>2</td>\n",
       "      <td>2</td>\n",
       "      <td>2</td>\n",
       "      <td>8617</td>\n",
       "      <td>5670</td>\n",
       "      <td>35835</td>\n",
       "      <td>20940</td>\n",
       "      <td>19146</td>\n",
       "      <td>19131</td>\n",
       "      <td>2000</td>\n",
       "      <td>36681</td>\n",
       "      <td>10000</td>\n",
       "      <td>9000</td>\n",
       "      <td>689</td>\n",
       "      <td>679</td>\n",
       "      <td>0</td>\n",
       "    </tr>\n",
       "  </tbody>\n",
       "</table>\n",
       "</div>"
      ],
      "text/plain": [
       "   LIMIT_BAL  PAY_0  PAY_2  PAY_3  PAY_4  PAY_5  PAY_6  BILL_AMT1  BILL_AMT2  \\\n",
       "0      20000      4      4      1      1      0      0       3913       3102   \n",
       "1     120000      1      4      2      2      2      4       2682       1725   \n",
       "2      90000      2      2      2      2      2      2      29239      14027   \n",
       "3      50000      2      2      2      2      2      2      46990      48233   \n",
       "4      50000      1      2      1      2      2      2       8617       5670   \n",
       "\n",
       "   BILL_AMT3  BILL_AMT4  BILL_AMT5  BILL_AMT6  PAY_AMT1  PAY_AMT2  PAY_AMT3  \\\n",
       "0        689          0          0          0         0       689         0   \n",
       "1       2682       3272       3455       3261         0      1000      1000   \n",
       "2      13559      14331      14948      15549      1518      1500      1000   \n",
       "3      49291      28314      28959      29547      2000      2019      1200   \n",
       "4      35835      20940      19146      19131      2000     36681     10000   \n",
       "\n",
       "   PAY_AMT4  PAY_AMT5  PAY_AMT6  DEFAULT  \n",
       "0         0         0         0        1  \n",
       "1      1000         0      2000        1  \n",
       "2      1000      1000      5000        0  \n",
       "3      1100      1069      1000        0  \n",
       "4      9000       689       679        0  "
      ]
     },
     "execution_count": 37,
     "metadata": {},
     "output_type": "execute_result"
    }
   ],
   "source": [
    "df1.iloc[:,1:7] += 2\n",
    "df1.head()"
   ]
  },
  {
   "cell_type": "code",
   "execution_count": 38,
   "metadata": {},
   "outputs": [],
   "source": [
    "y1 = df1['DEFAULT']\n",
    "x1 = df.iloc[:,0:18]\n",
    "X_train1, X_test1, y_train1, y_test1 = train_test_split(x1, y1, test_size=0.75)"
   ]
  },
  {
   "cell_type": "code",
   "execution_count": 39,
   "metadata": {},
   "outputs": [
    {
     "name": "stdout",
     "output_type": "stream",
     "text": [
      "[0.818      0.83733333 0.82666667 0.83133333 0.81933333]\n"
     ]
    },
    {
     "data": {
      "text/plain": [
       "0.8294666666666667"
      ]
     },
     "execution_count": 39,
     "metadata": {},
     "output_type": "execute_result"
    }
   ],
   "source": [
    "modelRF41 = RandomForestClassifier(max_depth=4)\n",
    "modelRF41.fit(X_train1,y_train1)\n",
    "print(cross_val_score(modelRF41, X_train1, y_train1))\n",
    "modelRF41.score(X_train1,y_train1)"
   ]
  },
  {
   "cell_type": "code",
   "execution_count": 40,
   "metadata": {},
   "outputs": [
    {
     "name": "stdout",
     "output_type": "stream",
     "text": [
      "[0.814      0.83666667 0.82133333 0.81333333 0.81266667]\n"
     ]
    },
    {
     "data": {
      "text/plain": [
       "0.9745333333333334"
      ]
     },
     "execution_count": 40,
     "metadata": {},
     "output_type": "execute_result"
    }
   ],
   "source": [
    "modelRF151 = RandomForestClassifier(max_depth=20)\n",
    "modelRF151.fit(X_train1,y_train1)\n",
    "print(cross_val_score(modelRF151, X_train1, y_train1))\n",
    "modelRF151.score(X_train1,y_train1)"
   ]
  },
  {
   "cell_type": "code",
   "execution_count": 41,
   "metadata": {},
   "outputs": [
    {
     "name": "stdout",
     "output_type": "stream",
     "text": [
      "[[16527   890]\n",
      " [ 3364  1719]]\n"
     ]
    },
    {
     "data": {
      "text/plain": [
       "0.8109333333333333"
      ]
     },
     "execution_count": 41,
     "metadata": {},
     "output_type": "execute_result"
    }
   ],
   "source": [
    "predictionsRF1 = modelRF151.predict(X_test1)\n",
    "confmatRF1 = confusion_matrix(y_test1,predictionsRF1)\n",
    "print(confmatRF1)\n",
    "accuracy_score(y_test1, predictionsRF1)"
   ]
  },
  {
   "cell_type": "markdown",
   "metadata": {},
   "source": [
    "973 false defaults, and more missed defaults than the one-hot full set\n",
    "Also unclear why the accuracy is so much lower using test sets"
   ]
  },
  {
   "cell_type": "code",
   "execution_count": 42,
   "metadata": {},
   "outputs": [
    {
     "name": "stdout",
     "output_type": "stream",
     "text": [
      "[0.79333333 0.79333333 0.79266667 0.79266667 0.79266667]\n"
     ]
    },
    {
     "data": {
      "text/plain": [
       "0.7930666666666667"
      ]
     },
     "execution_count": 42,
     "metadata": {},
     "output_type": "execute_result"
    }
   ],
   "source": [
    "modelSVC1 = SVC()\n",
    "modelSVC1.fit(X_train1,y_train1)\n",
    "print(cross_val_score(modelSVC1, X_train1, y_train1))\n",
    "modelSVC1.score(X_train1,y_train1)"
   ]
  },
  {
   "cell_type": "code",
   "execution_count": 66,
   "metadata": {},
   "outputs": [
    {
     "name": "stdout",
     "output_type": "stream",
     "text": [
      "[0.78533333 0.79066667 0.78933333 0.79       0.79066667]\n"
     ]
    },
    {
     "data": {
      "text/plain": [
       "0.7974666666666667"
      ]
     },
     "execution_count": 66,
     "metadata": {},
     "output_type": "execute_result"
    }
   ],
   "source": [
    "modelSVC2 = SVC(C=100)\n",
    "modelSVC2.fit(X_train1,y_train1)\n",
    "print(cross_val_score(modelSVC2, X_train1, y_train1))\n",
    "modelSVC2.score(X_train1,y_train1)"
   ]
  },
  {
   "cell_type": "code",
   "execution_count": 49,
   "metadata": {},
   "outputs": [
    {
     "name": "stdout",
     "output_type": "stream",
     "text": [
      "[[17338    79]\n",
      " [ 5064    19]]\n"
     ]
    },
    {
     "data": {
      "text/plain": [
       "0.7714222222222222"
      ]
     },
     "execution_count": 49,
     "metadata": {},
     "output_type": "execute_result"
    }
   ],
   "source": [
    "predictionsSVC2 = modelSVC2.predict(X_test1)\n",
    "confmatSVC2 = confusion_matrix(y_test1,predictionsSVC2)\n",
    "print(confmatSVC2)\n",
    "accuracy_score(y_test1, predictionsSVC2)"
   ]
  },
  {
   "cell_type": "markdown",
   "metadata": {},
   "source": [
    "Low detection of defaults"
   ]
  },
  {
   "cell_type": "code",
   "execution_count": null,
   "metadata": {},
   "outputs": [],
   "source": []
  },
  {
   "cell_type": "markdown",
   "metadata": {},
   "source": [
    "# PCA"
   ]
  },
  {
   "cell_type": "markdown",
   "metadata": {},
   "source": [
    "SVM and KNN both respond well to PCA. let's try that"
   ]
  },
  {
   "cell_type": "code",
   "execution_count": 50,
   "metadata": {},
   "outputs": [],
   "source": [
    "from sklearn.decomposition import PCA"
   ]
  },
  {
   "cell_type": "code",
   "execution_count": 85,
   "metadata": {},
   "outputs": [
    {
     "data": {
      "text/plain": [
       "array([[ -62051.27429247,  -88531.87920606,   -4977.41012326,\n",
       "          20004.15782005,   -5134.89043439],\n",
       "       [  40926.72195262, -101780.09761698,  -11194.65740247,\n",
       "          28286.66296823,   -5617.58994366],\n",
       "       [  36312.98203125,  -63953.89338423,    6326.41338391,\n",
       "         -24420.03976976,   -7779.63535798],\n",
       "       ...,\n",
       "       [-154227.7489459 ,  -46815.54063877,    1510.07533609,\n",
       "          -1474.90115039,   -2166.90589383],\n",
       "       [ -39687.3742836 ,  -89981.52248937,  -18985.31097372,\n",
       "          26590.19330451,    7191.39505076],\n",
       "       [ -91711.06046354,   44602.99901013,    6325.94994691,\n",
       "          -7458.96943715,   -5173.91250026]])"
      ]
     },
     "execution_count": 85,
     "metadata": {},
     "output_type": "execute_result"
    }
   ],
   "source": [
    "dfreduced = PCA(n_components=5).fit_transform(X_train)\n",
    "dfreduced"
   ]
  },
  {
   "cell_type": "code",
   "execution_count": 76,
   "metadata": {},
   "outputs": [
    {
     "name": "stdout",
     "output_type": "stream",
     "text": [
      "[0.77333333 0.77333333 0.77333333 0.77333333 0.77388889]\n"
     ]
    },
    {
     "data": {
      "text/plain": [
       "0.7734444444444445"
      ]
     },
     "execution_count": 76,
     "metadata": {},
     "output_type": "execute_result"
    }
   ],
   "source": [
    "modelSVCP1 = SVC(C=0.1)\n",
    "modelSVCP1.fit(dfreduced,y_train)\n",
    "print(cross_val_score(modelSVCP1, dfreduced, y_train))\n",
    "modelSVCP1.score(dfreduced,y_train)"
   ]
  },
  {
   "cell_type": "code",
   "execution_count": 78,
   "metadata": {},
   "outputs": [
    {
     "name": "stdout",
     "output_type": "stream",
     "text": [
      "[0.77333333 0.77333333 0.77333333 0.77333333 0.77388889]\n"
     ]
    },
    {
     "data": {
      "text/plain": [
       "0.7741111111111111"
      ]
     },
     "execution_count": 78,
     "metadata": {},
     "output_type": "execute_result"
    }
   ],
   "source": [
    "modelSVCP11 = SVC(C=1)\n",
    "modelSVCP11.fit(dfreduced,y_train)\n",
    "print(cross_val_score(modelSVCP11, dfreduced, y_train))\n",
    "modelSVCP11.score(dfreduced,y_train)"
   ]
  },
  {
   "cell_type": "code",
   "execution_count": 86,
   "metadata": {},
   "outputs": [
    {
     "data": {
      "text/plain": [
       "array([[   -898.06857042,   -9894.386687  ,   40740.854692  ,\n",
       "           4252.05404255,   -5582.91810767],\n",
       "       [ 192407.72018299, -131388.28857934,   -9327.88692756,\n",
       "           -957.42655622,  -10445.19449118],\n",
       "       [ 178362.97035148,  319753.0315434 , -148217.32702136,\n",
       "         -99283.19021673,   76577.54404482],\n",
       "       ...,\n",
       "       [  66832.16039818,  252674.13845356,  -43581.15831511,\n",
       "         -23297.3171767 ,   13396.8884963 ],\n",
       "       [-130594.6495156 ,  -96435.53362344,   -7781.48956054,\n",
       "            408.9650917 ,    3140.34067497],\n",
       "       [-103309.45956326, -100512.7297473 ,   -8129.3191103 ,\n",
       "          -1848.84222773,   -2062.30286179]])"
      ]
     },
     "execution_count": 86,
     "metadata": {},
     "output_type": "execute_result"
    }
   ],
   "source": [
    "dfreduced1 = PCA(n_components=5).fit_transform(X_train1)\n",
    "dfreduced1"
   ]
  },
  {
   "cell_type": "code",
   "execution_count": 87,
   "metadata": {},
   "outputs": [
    {
     "name": "stdout",
     "output_type": "stream",
     "text": [
      "[0.79333333 0.79333333 0.79266667 0.79266667 0.79266667]\n"
     ]
    },
    {
     "data": {
      "text/plain": [
       "0.7929333333333334"
      ]
     },
     "execution_count": 87,
     "metadata": {},
     "output_type": "execute_result"
    }
   ],
   "source": [
    "modelSVCP2 = SVC(C=0.1)\n",
    "modelSVCP2.fit(dfreduced1,y_train1)\n",
    "print(cross_val_score(modelSVCP1, dfreduced1, y_train1))\n",
    "modelSVCP2.score(dfreduced1,y_train1)"
   ]
  },
  {
   "cell_type": "markdown",
   "metadata": {},
   "source": [
    "Better performance of PCA on the reduced set, else held constant."
   ]
  },
  {
   "cell_type": "code",
   "execution_count": 88,
   "metadata": {},
   "outputs": [
    {
     "name": "stdout",
     "output_type": "stream",
     "text": [
      "[0.77333333 0.77333333 0.77333333 0.77333333 0.77388889]\n"
     ]
    },
    {
     "data": {
      "text/plain": [
       "0.7734444444444445"
      ]
     },
     "execution_count": 88,
     "metadata": {},
     "output_type": "execute_result"
    }
   ],
   "source": [
    "modelRFP1 = RandomForestClassifier(max_depth=3)\n",
    "modelRFP1.fit(dfreduced,y_train)\n",
    "print(cross_val_score(modelRFP1, dfreduced, y_train))\n",
    "modelRFP1.score(dfreduced,y_train)"
   ]
  },
  {
   "cell_type": "code",
   "execution_count": 89,
   "metadata": {},
   "outputs": [
    {
     "name": "stdout",
     "output_type": "stream",
     "text": [
      "[0.77722222 0.77388889 0.77777778 0.77277778 0.77833333]\n"
     ]
    },
    {
     "data": {
      "text/plain": [
       "0.8072222222222222"
      ]
     },
     "execution_count": 89,
     "metadata": {},
     "output_type": "execute_result"
    }
   ],
   "source": [
    "modelRFP2 = RandomForestClassifier(max_depth=10)\n",
    "modelRFP2.fit(dfreduced,y_train)\n",
    "print(cross_val_score(modelRFP2, dfreduced, y_train))\n",
    "modelRFP2.score(dfreduced,y_train)"
   ]
  },
  {
   "cell_type": "code",
   "execution_count": 90,
   "metadata": {},
   "outputs": [
    {
     "name": "stdout",
     "output_type": "stream",
     "text": [
      "[0.79333333 0.79333333 0.79266667 0.79266667 0.79266667]\n"
     ]
    },
    {
     "data": {
      "text/plain": [
       "0.7929333333333334"
      ]
     },
     "execution_count": 90,
     "metadata": {},
     "output_type": "execute_result"
    }
   ],
   "source": [
    "modelRFP3 = RandomForestClassifier(max_depth=3)\n",
    "modelRFP3.fit(dfreduced1,y_train1)\n",
    "print(cross_val_score(modelRFP3, dfreduced1, y_train1))\n",
    "modelRFP3.score(dfreduced1,y_train1)"
   ]
  },
  {
   "cell_type": "markdown",
   "metadata": {},
   "source": [
    "random forest did not respond well to PCA, but that makes sense"
   ]
  },
  {
   "cell_type": "raw",
   "metadata": {},
   "source": []
  }
 ],
 "metadata": {
  "kernelspec": {
   "display_name": "Python 3",
   "language": "python",
   "name": "python3"
  },
  "language_info": {
   "codemirror_mode": {
    "name": "ipython",
    "version": 3
   },
   "file_extension": ".py",
   "mimetype": "text/x-python",
   "name": "python",
   "nbconvert_exporter": "python",
   "pygments_lexer": "ipython3",
   "version": "3.7.6"
  }
 },
 "nbformat": 4,
 "nbformat_minor": 4
}
